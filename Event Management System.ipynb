{
 "cells": [
  {
   "cell_type": "code",
   "execution_count": null,
   "id": "334a6ce8",
   "metadata": {},
   "outputs": [],
   "source": [
    "class Event:\n",
    "    \n",
    "    event_organizer = {}\n",
    "    \n",
    "    def eventID(self,eventID):\n",
    "        self.eventID = eventID\n",
    "        \n",
    "    def eventname(self,eventname):\n",
    "        self.eventname = eventname\n",
    "        \n",
    "    def organizer(self,organizer):\n",
    "        self.organizer = organizer\n",
    "        \n",
    "    def venue(self,venue):\n",
    "        self.venue = venue\n",
    "        \n",
    "    def description(self,description):\n",
    "        self.description = description\n",
    "        \n",
    "    def startdate(self,startdate):\n",
    "        self.startdate = startdate\n",
    "                  \n",
    "    def starttime(self,starttime):\n",
    "        self.starttime = starttime\n",
    "        \n",
    "    def enddate(self,enddate):\n",
    "        self.enddate = enddate\n",
    "                \n",
    "    def endtime(self,endtime):\n",
    "        self.endtime = endtime\n",
    "\n",
    "    def password(self,password):\n",
    "        self.password = password\n",
    "\n",
    "\n",
    "    \n",
    "        \n",
    "    def create_user(self):\n",
    "        Event.event_organizer[self.eventID] = {}\n",
    "        Event.event_organizer[self.eventID][self.password] = self"
   ]
  },
  {
   "cell_type": "code",
   "execution_count": null,
   "id": "d41472f7",
   "metadata": {},
   "outputs": [],
   "source": [
    "user = Event()"
   ]
  },
  {
   "cell_type": "code",
   "execution_count": null,
   "id": "e0ca7d2f",
   "metadata": {},
   "outputs": [],
   "source": [
    "user.__dict__"
   ]
  },
  {
   "cell_type": "code",
   "execution_count": null,
   "id": "87988676",
   "metadata": {},
   "outputs": [],
   "source": []
  },
  {
   "cell_type": "code",
   "execution_count": null,
   "id": "d2583e56",
   "metadata": {},
   "outputs": [],
   "source": [
    "exit = \"N\"\n",
    "dict1 = {}\n",
    "while exit == \"N\" or exit ==\"n\":\n",
    "    event_organizer = input(\"Are you a event_organizer Yes/No\")\n",
    "    if event_organizer == \"Yes\":\n",
    "        user = Event()\n",
    "        user.eventID(input('Enter the Event ID'))\n",
    "        user.eventname(input('Enter the Event Name'))\n",
    "        user.organizer(input('Enter the Organizer'))\n",
    "        user.venue(input('Enter the Venue'))\n",
    "        user.description(input('Enter the Description'))\n",
    "        user.startdate(input('Enter the Start Date'))\n",
    "        user.starttime(input(\"Enter the Start Time\"))\n",
    "        user.enddate(input('Enter the End Date'))\n",
    "        user.endtime(input(\"Enter the End Time\"))\n",
    "        user.password(input('Enter Password'))\n",
    "        user.create_user()\n",
    "        dict1[user.eventID] = {}\n",
    "        dict1[user.eventID][user.password] = user.__dict__\n",
    "    exit = input('Do you want to Exit Y/N')\n",
    "                            "
   ]
  },
  {
   "cell_type": "code",
   "execution_count": null,
   "id": "a9674eb9",
   "metadata": {},
   "outputs": [],
   "source": [
    "dict1"
   ]
  },
  {
   "cell_type": "code",
   "execution_count": null,
   "id": "005a7dd3",
   "metadata": {},
   "outputs": [],
   "source": [
    "# create a fun to write a password and get details\n",
    "dict1['123']\n",
    "passw =list(dict1['123'].keys())[0]"
   ]
  },
  {
   "cell_type": "code",
   "execution_count": null,
   "id": "7ee6db8a",
   "metadata": {},
   "outputs": [],
   "source": [
    "# using password get detail"
   ]
  },
  {
   "cell_type": "code",
   "execution_count": null,
   "id": "c77370e4",
   "metadata": {},
   "outputs": [],
   "source": [
    "import json"
   ]
  },
  {
   "cell_type": "code",
   "execution_count": null,
   "id": "3cd91d44",
   "metadata": {},
   "outputs": [
    {
     "name": "stdout",
     "output_type": "stream",
     "text": [
      "***************************Welcome***********************\n",
      "1. Event Organizer.\n",
      "2. Member.\n",
      "3. Logout2\n"
     ]
    }
   ],
   "source": [
    "# for login pass first view\n",
    "# options formate\n",
    "x= print(\"***************************Welcome***********************\")\n",
    "options = int(input(\"1. Event Organizer.\\n2. Member.\\n3. Logout\"))\n",
    "\n",
    "dict1 = {}\n",
    "with open(\"Event.json\",\"r\") as fp:  #to save file as json format\n",
    "    dict1 = json.load(fp)\n",
    "while options < 3 and options >0:\n",
    "    if options == 1:\n",
    "        \n",
    "        \n",
    "        crud_choice = int(input(\"For Event Organizer\\n1. Create Event\\n2. View Event List\\n3. View Event Details\\n4. Update Event\\n5. Delete Event\\n6. Logout\"))\n",
    "        while crud_choice<5 and crud_choice>0:\n",
    "            if crud_choice == 1:  #Create event\n",
    "                user = Event()\n",
    "                user.eventID(input('Enter the Event ID'))\n",
    "                user.eventname(input('Enter the Event Name'))\n",
    "                user.organizer(input('Enter the Organizer'))\n",
    "                user.venue(input('Enter the Venue'))\n",
    "                user.description(input('Enter the Description'))\n",
    "                user.startdate(input('Enter the Start Date'))\n",
    "                user.starttime(input(\"Enter the Start Time\"))\n",
    "                user.enddate(input('Enter the End Date'))\n",
    "                user.endtime(input(\"Enter the End Time\"))\n",
    "                user.password(input('Enter Password'))\n",
    "                user.create_user()\n",
    "                dict1[user.eventID] = {}\n",
    "                dict1[user.eventID][user.password] = user.__dict__\n",
    "                print(\"---------------Event Create Successfully---------------\")\n",
    "            elif crud_choice == 2:  #View event List(read)\n",
    "               \n",
    "                eventID = input(\"Enter the Event ID: \")\n",
    "                password = list(dict1[eventID].keys())[0]\n",
    "                eventname = dict1[eventID][password][\"eventname\"]\n",
    "                organizer = dict1[eventID][password][\"organizer\"]\n",
    "                venue = dict1[eventID][password][\"venue\"]\n",
    "                description = dict1[eventID][password][\"description\"]\n",
    "                startdate = dict1[eventID][password][\"startdate\"]\n",
    "                starttime = dict1[eventID][password][\"starttime\"]\n",
    "                enddate = dict1[eventID][password][\"enddate\"]\n",
    "                endtime = dict1[eventID][password][\"endtime\"]\n",
    "                print(\"Event ID: {}\\nEvent Name: {}\\nOrganiser: {}\\nVenue: {}\\nDescription: {}\\nStart Date: {}\\nStart time: {}\\nEnd Date: {}\\nEnd Time: {}\".format(eventID,eventname,organizer,venue,description,startdate,starttime,enddate,endtime))\n",
    "                \n",
    "\n",
    "            elif crud_choice == 3:  # Upadte\n",
    "                update_value = int(input(\"Enter the  which you want to update:\\n1. start date\\n2. start time\\n3. end date\\n4. end time\"))\n",
    "                if update_value == 1:\n",
    "                    \n",
    "                    eventID = input(\"Enter the Event ID: \")\n",
    "                    passwoed = list(dict1[eventID].keys())[0]\n",
    "                    dict1[eventID][password][\"startdate\"] = input(\"Enter The New Start Date\")\n",
    "\n",
    "                elif update_value == 2:\n",
    "                    eventID = input(\"Enter the Event ID: \")\n",
    "                    passwoed = list(dict1[eventID].keys())[0]\n",
    "                    dict1[eventID][password][\"starttime\"] = input(\"Enter The New Start Time\")\n",
    "                    \n",
    "                elif update_value == 3:\n",
    "                    eventID = input(\"Enter the Event ID: \")\n",
    "                    passwoed = list(dict1[eventID].keys())[0]\n",
    "                    dict1[eventID][password][\"enddate\"] = input(\"Enter The New End Date\")\n",
    "                    \n",
    "                elif update_value == 4:\n",
    "                    eventID = input(\"Enter the Event ID: \")\n",
    "                    passwoed = list(dict1[eventID].keys())[0]\n",
    "                    dict1[eventID][password][\"endtime\"] = input(\"Enter The New End Time\")\n",
    "                    print(\"---------------Update Successfully----------\")\n",
    "                    \n",
    "            elif crud_choice == 4:   # Delete\n",
    "             \n",
    "                eventID = input(\"Enter the Event ID: \")\n",
    "                del dict1[eventID] \n",
    "                del Event.event_organizer[eventID]\n",
    "                print(\"----------------Delete successfully---------------\")\n",
    "                continue\n",
    "              \n",
    "            else:\n",
    "                break\n",
    "            crud_choice = int(input(\"For Event Organizer\\n1. Create\\n2. Read\\n3. Upadte\\n4. Delete\\n5. Exit\"))\n",
    "\n",
    "\n",
    "                \n",
    "                    \n",
    "    elif options == 2:\n",
    "    \n",
    "        crud_choice = int(input(\"For Member\\n1. Event List\\n2. View Event Details\\n3. View Register Event\\n4. Update Password\\n5. Total User Register\\n6. Total Seat Available\\n7. Exit\"))\n",
    "        while crud_choice<0 and crud_choice>0:\n",
    "            if crud_choice == 1:\n",
    "                user = Event()\n",
    "                user.eventID = input(\"Enter the Event ID: \")\n",
    "                user.password = list(dict1[eventID].keys())[0]\n",
    "                user.eventname = dict1[eventID][password][\"eventname\"]\n",
    "                user.organizer = dict1[eventID][password][\"organizer\"]\n",
    "                user.startdate = dict1[eventID][password][\"startdate\"]\n",
    "                user.starttime = dict1[eventID][password][\"starttime\"]\n",
    "                user.enddate= dict1[eventID][password][\"enddate\"]\n",
    "                user.endtime  = dict1[eventID][password][\"endtime\"]\n",
    "            elif crud_choice ==2:\n",
    "                user = Event()\n",
    "                user.eventID = input(\"Enter the Event ID: \")\n",
    "                user.password = list(dict1[eventID].keys())[0]\n",
    "                user.eventname = dict1[eventID][password][\"eventname\"]\n",
    "                user.organizer = dict1[eventID][password][\"organizer\"]\n",
    "                user.startdate= dict1[eventID][password][\"startdate\"]\n",
    "                user.starttime = dict1[eventID][password][\"starttime\"]\n",
    "                user.enddate = dict1[eventID][password][\"enddate\"]\n",
    "                user.endtime  = dict1[eventID][password][\"endtime\"]\n",
    "            else:\n",
    "                break\n",
    "                \n",
    "                \n",
    "    elif options == 3:\n",
    "        break\n",
    "    else:\n",
    "        print(\"Invalid Input pls try agin!!!\")\n",
    "        options = int(input(\"1. Event Oganizer.\\n2. Member.\\nQ. Quit\\n\"))\n",
    "        \n",
    "#with open(\"GYM.json\",\"w\") as data_file:\n",
    " #   json.dump(dict1,data_file, index=4)       #"
   ]
  },
  {
   "cell_type": "code",
   "execution_count": null,
   "id": "26a49546",
   "metadata": {},
   "outputs": [],
   "source": []
  },
  {
   "cell_type": "code",
   "execution_count": null,
   "id": "f6fe038c",
   "metadata": {},
   "outputs": [],
   "source": []
  },
  {
   "cell_type": "code",
   "execution_count": null,
   "id": "ff239734",
   "metadata": {},
   "outputs": [],
   "source": []
  },
  {
   "cell_type": "code",
   "execution_count": null,
   "id": "c9b857d8",
   "metadata": {},
   "outputs": [],
   "source": []
  },
  {
   "cell_type": "code",
   "execution_count": null,
   "id": "9a226637",
   "metadata": {},
   "outputs": [],
   "source": []
  },
  {
   "cell_type": "code",
   "execution_count": null,
   "id": "12385a29",
   "metadata": {},
   "outputs": [],
   "source": []
  },
  {
   "cell_type": "code",
   "execution_count": 70,
   "id": "b78ad97e",
   "metadata": {},
   "outputs": [
    {
     "ename": "KeyError",
     "evalue": "'144'",
     "output_type": "error",
     "traceback": [
      "\u001b[1;31m---------------------------------------------------------------------------\u001b[0m",
      "\u001b[1;31mKeyError\u001b[0m                                  Traceback (most recent call last)",
      "\u001b[1;32m~\\AppData\\Local\\Temp/ipykernel_6456/1245358753.py\u001b[0m in \u001b[0;36m<module>\u001b[1;34m\u001b[0m\n\u001b[1;32m----> 1\u001b[1;33m \u001b[0mpas\u001b[0m \u001b[1;33m=\u001b[0m \u001b[0mlist\u001b[0m\u001b[1;33m(\u001b[0m\u001b[0mEvent\u001b[0m\u001b[1;33m.\u001b[0m\u001b[0mevent_organizer\u001b[0m\u001b[1;33m[\u001b[0m\u001b[1;34m\"144\"\u001b[0m\u001b[1;33m]\u001b[0m\u001b[1;33m.\u001b[0m\u001b[0mkeys\u001b[0m\u001b[1;33m(\u001b[0m\u001b[1;33m)\u001b[0m\u001b[1;33m)\u001b[0m\u001b[1;33m\u001b[0m\u001b[1;33m\u001b[0m\u001b[0m\n\u001b[0m",
      "\u001b[1;31mKeyError\u001b[0m: '144'"
     ]
    }
   ],
   "source": [
    "pas = list(Event.event_organizer[\"144\"].keys())"
   ]
  },
  {
   "cell_type": "code",
   "execution_count": 20,
   "id": "451eb179",
   "metadata": {},
   "outputs": [],
   "source": [
    "d = {\"Vishal\":\"Event Organizer\",\"Yash\":\"Member\"}"
   ]
  },
  {
   "cell_type": "code",
   "execution_count": 57,
   "id": "cd976b94",
   "metadata": {},
   "outputs": [
    {
     "ename": "SyntaxError",
     "evalue": "invalid syntax (Temp/ipykernel_6456/1259053584.py, line 3)",
     "output_type": "error",
     "traceback": [
      "\u001b[1;36m  File \u001b[1;32m\"C:\\Users\\shree\\AppData\\Local\\Temp/ipykernel_6456/1259053584.py\"\u001b[1;36m, line \u001b[1;32m3\u001b[0m\n\u001b[1;33m    limport json\u001b[0m\n\u001b[1;37m            ^\u001b[0m\n\u001b[1;31mSyntaxError\u001b[0m\u001b[1;31m:\u001b[0m invalid syntax\n"
     ]
    }
   ],
   "source": [
    "# Create json File\n",
    "\n",
    "limport json\n",
    "js_obj = json.dumps(dict1, indent=4)"
   ]
  },
  {
   "cell_type": "code",
   "execution_count": 73,
   "id": "644cea8b",
   "metadata": {},
   "outputs": [],
   "source": [
    "with open(\"Event.json\",\"w+\") as fp:\n",
    "    fp.write(js_obj)"
   ]
  },
  {
   "cell_type": "code",
   "execution_count": 74,
   "id": "c797db0e",
   "metadata": {},
   "outputs": [],
   "source": [
    "with open(\"Event.json\",\"r\") as fp:\n",
    "    js = json.load(fp)"
   ]
  },
  {
   "cell_type": "code",
   "execution_count": null,
   "id": "39e6f16b",
   "metadata": {},
   "outputs": [],
   "source": [
    "print(js)"
   ]
  },
  {
   "cell_type": "code",
   "execution_count": null,
   "id": "57cd1a10",
   "metadata": {},
   "outputs": [],
   "source": []
  },
  {
   "cell_type": "code",
   "execution_count": null,
   "id": "8aa85bc4",
   "metadata": {},
   "outputs": [],
   "source": []
  },
  {
   "cell_type": "code",
   "execution_count": null,
   "id": "300821a7",
   "metadata": {},
   "outputs": [],
   "source": []
  }
 ],
 "metadata": {
  "kernelspec": {
   "display_name": "Python 3 (ipykernel)",
   "language": "python",
   "name": "python3"
  },
  "language_info": {
   "codemirror_mode": {
    "name": "ipython",
    "version": 3
   },
   "file_extension": ".py",
   "mimetype": "text/x-python",
   "name": "python",
   "nbconvert_exporter": "python",
   "pygments_lexer": "ipython3",
   "version": "3.9.6"
  }
 },
 "nbformat": 4,
 "nbformat_minor": 5
}
